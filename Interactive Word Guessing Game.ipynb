{
 "cells": [
  {
   "cell_type": "markdown",
   "id": "9cb18010",
   "metadata": {},
   "source": [
    "#### Project 2: Word Guessing game\n",
    "In this game, a list of words is present from which the interpreter will randomly choose one word. The user will first be asked to input their name, and then they will be prompted to guess an alphabet. If the random word contains the guessed alphabet, it will be displayed as the output with its correct placement, otherwise, the program will ask the user to guess another alphabet. The user will be given 12 turns (which can be adjusted) to guess the complete word."
   ]
  },
  {
   "cell_type": "code",
   "execution_count": null,
   "id": "13c7c848",
   "metadata": {},
   "outputs": [],
   "source": [
    "# importing random module\n",
    "import random\n",
    "\n",
    "# List of movie_names\n",
    "movie_names = ['Salaar', 'Dunki', 'Pushpa', 'Jawan', 'Pathan', 'Saho', 'RRR', 'Tejas', 'KGF', 'Joram',\n",
    "              'Brahmastra', 'Khichdi', 'Dhoom', 'War', 'Mastaney', 'Fukrey', 'Master']\n",
    "\n",
    "# Selecting the movie\n",
    "selected_movie = random.choice(movie_names)\n",
    "\n",
    "# Taking player details\n",
    "player_name = input('Enter your name: ')\n",
    "print(f\"Welcome {player_name}! In this game, you have to predict the letters of the movie name.\")\n",
    "print('You are given 12 chances.')\n",
    "\n",
    "# Defining variables named chances and player_guesses.\n",
    "player_guesses = ''\n",
    "chances = 12\n",
    "\n",
    "# Initializing while loop\n",
    "while chances > 0:\n",
    "    # Declaring variable named wrong guesses\n",
    "    wrong_guess = 0\n",
    "    for letters in selected_movie.lower():\n",
    "        if letters in player_guesses:\n",
    "            print(f\"{letters} - Correct\")\n",
    "        else:\n",
    "            wrong_guess += 1\n",
    "            print('_')\n",
    "    \n",
    "    # Declaring condition for wrong guesses.\n",
    "    if wrong_guess == 0:\n",
    "        print(f\"Congratulations! You have guessed it correctly. The movie name is: {selected_movie}.\")\n",
    "        break\n",
    "    \n",
    "    # Declaring variable to take player input\n",
    "    guess = input('Enter the letter: ')\n",
    "    player_guesses += guess\n",
    "    \n",
    "    # Declaring condition if guess is not correct\n",
    "    if guess not in selected_movie.lower():\n",
    "        chances -= 1\n",
    "        print(f\"Wrong: You are left with {chances} chances.\")\n",
    "        \n",
    "        # Declaring condition for game over.\n",
    "        if chances == 0:\n",
    "            print('Game Over!')\n",
    "    "
   ]
  }
 ],
 "metadata": {
  "kernelspec": {
   "display_name": "Python 3 (ipykernel)",
   "language": "python",
   "name": "python3"
  },
  "language_info": {
   "codemirror_mode": {
    "name": "ipython",
    "version": 3
   },
   "file_extension": ".py",
   "mimetype": "text/x-python",
   "name": "python",
   "nbconvert_exporter": "python",
   "pygments_lexer": "ipython3",
   "version": "3.11.5"
  }
 },
 "nbformat": 4,
 "nbformat_minor": 5
}
